{
 "cells": [
  {
   "cell_type": "code",
   "execution_count": 88,
   "id": "6d4c1172",
   "metadata": {},
   "outputs": [],
   "source": [
    "import pandas as pd\n",
    "import numpy as np\n",
    "from sklearn.model_selection import train_test_split\n",
    "import joblib\n",
    "from sklearn.impute import SimpleImputer\n",
    "from sklearn.impute import KNNImputer\n",
    "from sklearn.preprocessing import StandardScaler, RobustScaler, MinMaxScaler\n",
    "from sklearn.pipeline import Pipeline\n",
    "from sklearn.compose import ColumnTransformer\n",
    "from sklearn.preprocessing import OneHotEncoder\n",
    "from sklearn.tree import DecisionTreeClassifier\n",
    "import matplotlib.pyplot as plt\n",
    "from sklearn.model_selection import cross_validate\n",
    "from sklearn.metrics import recall_score, accuracy_score,f1_score\n",
    "from sklearn.ensemble import RandomForestClassifier\n",
    "\n",
    "from sklearn.inspection import permutation_importance\n",
    "\n",
    "from sklearn.linear_model import LogisticRegression\n",
    "\n",
    "from sklearn.metrics import accuracy_score\n"
   ]
  },
  {
   "cell_type": "code",
   "execution_count": 89,
   "id": "5546063f",
   "metadata": {},
   "outputs": [],
   "source": [
    "train = pd.read_csv('s3://germancreditcsr/datos/original/datos/train.csv', index_col=0)\n",
    "\n",
    "test = pd.read_csv('s3://germancreditcsr/datos/original/datos/test.csv', index_col=0)"
   ]
  },
  {
   "cell_type": "code",
   "execution_count": 90,
   "id": "5b1c1b7b",
   "metadata": {},
   "outputs": [],
   "source": [
    "sub_train, val = train_test_split(train, test_size=0.3, random_state=42)\n"
   ]
  },
  {
   "cell_type": "code",
   "execution_count": 91,
   "id": "63985054",
   "metadata": {},
   "outputs": [],
   "source": [
    "X_train=  sub_train.drop('Risk' , axis= 1 )"
   ]
  },
  {
   "cell_type": "code",
   "execution_count": 92,
   "id": "8803ad8a",
   "metadata": {},
   "outputs": [],
   "source": [
    "y_train = sub_train['Risk']"
   ]
  },
  {
   "cell_type": "code",
   "execution_count": 93,
   "id": "64d70340",
   "metadata": {},
   "outputs": [],
   "source": [
    "X_train = pd.get_dummies(X_train)"
   ]
  },
  {
   "cell_type": "code",
   "execution_count": 94,
   "id": "e3dfba6b",
   "metadata": {},
   "outputs": [],
   "source": [
    "X_val=  val.drop('Risk' , axis= 1 )"
   ]
  },
  {
   "cell_type": "code",
   "execution_count": 95,
   "id": "36786eb1",
   "metadata": {},
   "outputs": [],
   "source": [
    "y_val = val['Risk']"
   ]
  },
  {
   "cell_type": "code",
   "execution_count": 96,
   "id": "3eb61951",
   "metadata": {},
   "outputs": [],
   "source": [
    "X_val = pd.get_dummies(X_val)"
   ]
  },
  {
   "cell_type": "code",
   "execution_count": 97,
   "id": "3464c78a",
   "metadata": {},
   "outputs": [],
   "source": [
    "modelo = DecisionTreeClassifier(\n",
    "            max_depth         = 4,\n",
    "            random_state      = 1000      )\n",
    "\n",
    "\n",
    "\n"
   ]
  },
  {
   "cell_type": "code",
   "execution_count": 98,
   "id": "560297d5",
   "metadata": {},
   "outputs": [
    {
     "data": {
      "text/plain": [
       "DecisionTreeClassifier(max_depth=4, random_state=1000)"
      ]
     },
     "execution_count": 98,
     "metadata": {},
     "output_type": "execute_result"
    }
   ],
   "source": [
    "# Entrenamiento del modelo\n",
    "# ------------------------------------------------------------------------------\n",
    "modelo.fit(X_train, y_train)"
   ]
  },
  {
   "cell_type": "code",
   "execution_count": 99,
   "id": "9dcf47ec",
   "metadata": {},
   "outputs": [],
   "source": [
    "r = permutation_importance(modelo, X_val, y_val, n_repeats=62)"
   ]
  },
  {
   "cell_type": "code",
   "execution_count": 100,
   "id": "6e935763",
   "metadata": {},
   "outputs": [
    {
     "data": {
      "text/plain": [
       "{'importances_mean': array([ 0.00084485, -0.00284178, -0.00967742,  0.00545315,  0.        ,\n",
       "         0.        ,  0.        ,  0.00691244,  0.        , -0.00637481,\n",
       "         0.        ,  0.        ,  0.        , -0.00606759,  0.00460829,\n",
       "         0.        ,  0.        ,  0.        ,  0.        ,  0.003149  ,\n",
       "         0.        ,  0.        ,  0.        ,  0.        ]),\n",
       " 'importances_std': array([0.00564242, 0.00377283, 0.00427356, 0.0180792 , 0.        ,\n",
       "        0.        , 0.        , 0.00416166, 0.        , 0.00622309,\n",
       "        0.        , 0.        , 0.        , 0.01131954, 0.0134134 ,\n",
       "        0.        , 0.        , 0.        , 0.        , 0.00651032,\n",
       "        0.        , 0.        , 0.        , 0.        ]),\n",
       " 'importances': array([[ 0.00952381,  0.        , -0.0047619 , ...,  0.        ,\n",
       "         -0.00952381, -0.0047619 ],\n",
       "        [ 0.        , -0.0047619 , -0.0047619 , ..., -0.0047619 ,\n",
       "         -0.0047619 ,  0.        ],\n",
       "        [-0.00952381, -0.00952381, -0.01428571, ..., -0.0047619 ,\n",
       "         -0.01428571, -0.00952381],\n",
       "        ...,\n",
       "        [ 0.        ,  0.        ,  0.        , ...,  0.        ,\n",
       "          0.        ,  0.        ],\n",
       "        [ 0.        ,  0.        ,  0.        , ...,  0.        ,\n",
       "          0.        ,  0.        ],\n",
       "        [ 0.        ,  0.        ,  0.        , ...,  0.        ,\n",
       "          0.        ,  0.        ]])}"
      ]
     },
     "execution_count": 100,
     "metadata": {},
     "output_type": "execute_result"
    }
   ],
   "source": [
    "r"
   ]
  },
  {
   "cell_type": "code",
   "execution_count": 101,
   "id": "06783b1c",
   "metadata": {},
   "outputs": [
    {
     "data": {
      "image/png": "[encoded data removed]",
      "text/plain": [
       "<Figure size 720x360 with 1 Axes>"
      ]
     },
     "metadata": {
      "needs_background": "light"
     },
     "output_type": "display_data"
    }
   ],
   "source": [
    "\n",
    "plt.figure(figsize=(10,5))\n",
    "plt.bar(x=X_train.columns, height=r[ 'importances_mean'])\n",
    "\n",
    "plt.xticks(rotation=90)\n",
    "plt.grid()\n",
    "plt.show()"
   ]
  },
  {
   "cell_type": "code",
   "execution_count": 102,
   "id": "ca5c0361",
   "metadata": {},
   "outputs": [
    {
     "data": {
      "text/plain": [
       "0.6476190476190476"
      ]
     },
     "execution_count": 102,
     "metadata": {},
     "output_type": "execute_result"
    }
   ],
   "source": [
    "accuracy_score(modelo.predict(X_val),y_val)"
   ]
  },
  {
   "cell_type": "code",
   "execution_count": 103,
   "id": "925176dd",
   "metadata": {},
   "outputs": [],
   "source": [
    "train = pd.read_csv('s3://germancreditcsr/datos/original/datos/train.csv', index_col=0)\n",
    "\n",
    "test = pd.read_csv('s3://germancreditcsr/datos/original/datos/test.csv', index_col=0)"
   ]
  },
  {
   "cell_type": "code",
   "execution_count": 104,
   "id": "5dd7f7c5",
   "metadata": {},
   "outputs": [],
   "source": [
    "X_train = train.drop(\"Risk\", axis=1)\n",
    "X_train = pd.get_dummies(X_train)\n",
    "y_train = train[\"Risk\"]"
   ]
  },
  {
   "cell_type": "code",
   "execution_count": 105,
   "id": "9b5bec40",
   "metadata": {},
   "outputs": [],
   "source": [
    "from sklearn.model_selection import KFold, StratifiedKFold"
   ]
  },
  {
   "cell_type": "code",
   "execution_count": 106,
   "id": "6b856a04",
   "metadata": {},
   "outputs": [
    {
     "data": {
      "text/plain": [
       "KFold(n_splits=3, random_state=None, shuffle=False)"
      ]
     },
     "execution_count": 106,
     "metadata": {},
     "output_type": "execute_result"
    }
   ],
   "source": [
    "k_fold = KFold(n_splits=3)\n",
    "k_fold "
   ]
  },
  {
   "cell_type": "code",
   "execution_count": 208,
   "id": "63f99537",
   "metadata": {},
   "outputs": [
    {
     "name": "stdout",
     "output_type": "stream",
     "text": [
      "av_train 0.7467811158798283\n",
      "av_val 0.7393162393162394\n",
      "av_train 0.7751605995717344\n",
      "av_val 0.6609442060085837\n",
      "av_train 0.7687366167023555\n",
      "av_val 0.6609442060085837\n"
     ]
    }
   ],
   "source": [
    "for train_indices, val_indices in k_fold.split(X_train, y_train):\n",
    "    model=DecisionTreeClassifier(max_depth=3)\n",
    "    X_sub_train = X_train.iloc[train_indices,:]\n",
    "    y_sub_train = y_train.iloc[train_indices]\n",
    "\n",
    "    model.fit(X_sub_train,y_sub_train)\n",
    "    \n",
    "    X_val = X_train.iloc[val_indices,:]\n",
    "    y_val = y_train.iloc[val_indices]\n",
    "    \n",
    "   \n",
    "    #print('acurracy train',accuracy_score(y_sub_train, model.predict(X_sub_train)))\n",
    "    #print('acuracy val',accuracy_score(y_val, model.predict(X_val)))\n",
    "    accuracy_subtrain=accuracy_score(y_sub_train, model.predict(X_sub_train))\n",
    "    acum_train=accuracy_subtrain\n",
    "    accuracy_val=accuracy_score(y_val, model.predict(X_val))\n",
    "    acum_val=accuracy_val\n",
    "    r = permutation_importance(modelo, X_val, y_val, n_repeats=62)\n",
    "    \n",
    "    average_train=acum_train.mean()\n",
    "    average_val=acum_val.mean()\n",
    "    \n",
    "    print('av_train',average_train)\n",
    "    print('av_val',average_val)\n",
    "    \n",
    "    \n",
    " \n",
    "   \n",
    "        "
   ]
  },
  {
   "cell_type": "code",
   "execution_count": 187,
   "id": "c03f50b7",
   "metadata": {},
   "outputs": [
    {
     "data": {
      "image/png": "[encoded data removed]",
      "text/plain": [
       "<Figure size 720x360 with 1 Axes>"
      ]
     },
     "metadata": {
      "needs_background": "light"
     },
     "output_type": "display_data"
    }
   ],
   "source": [
    "\n",
    "\n",
    "plt.figure(figsize=(10,5))\n",
    "plt.bar(x=X_train.columns, height=r[ 'importances_mean'])\n",
    "\n",
    "plt.xticks(rotation=90)\n",
    "plt.grid()\n",
    "plt.show()"
   ]
  },
  {
   "cell_type": "code",
   "execution_count": null,
   "id": "79a24541",
   "metadata": {},
   "outputs": [],
   "source": []
  },
  {
   "cell_type": "code",
   "execution_count": null,
   "id": "226d0f4c",
   "metadata": {},
   "outputs": [],
   "source": []
  },
  {
   "cell_type": "code",
   "execution_count": null,
   "id": "95366926",
   "metadata": {},
   "outputs": [],
   "source": []
  },
  {
   "cell_type": "code",
   "execution_count": null,
   "id": "6e063499",
   "metadata": {},
   "outputs": [],
   "source": []
  },
  {
   "cell_type": "code",
   "execution_count": null,
   "id": "0a0565a6",
   "metadata": {},
   "outputs": [],
   "source": []
  },
  {
   "cell_type": "code",
   "execution_count": null,
   "id": "7c0195d1",
   "metadata": {},
   "outputs": [],
   "source": []
  }
 ],
 "metadata": {
  "kernelspec": {
   "display_name": "conda_python3",
   "language": "python",
   "name": "conda_python3"
  },
  "language_info": {
   "codemirror_mode": {
    "name": "ipython",
    "version": 3
   },
   "file_extension": ".py",
   "mimetype": "text/x-python",
   "name": "python",
   "nbconvert_exporter": "python",
   "pygments_lexer": "ipython3",
   "version": "3.8.12"
  }
 },
 "nbformat": 4,
 "nbformat_minor": 5
}
