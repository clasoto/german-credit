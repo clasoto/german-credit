{
 "cells": [
  {
   "cell_type": "code",
   "execution_count": 356,
   "id": "f5f5eb7c",
   "metadata": {},
   "outputs": [],
   "source": [
    "import pandas as pd\n",
    "import numpy as np\n",
    "from sklearn.model_selection import train_test_split\n",
    "import joblib\n",
    "from sklearn.impute import SimpleImputer\n",
    "from sklearn.impute import KNNImputer\n",
    "from sklearn.preprocessing import StandardScaler, RobustScaler, MinMaxScaler\n",
    "from sklearn.pipeline import Pipeline\n",
    "from sklearn.compose import ColumnTransformer\n",
    "from sklearn.preprocessing import OneHotEncoder\n",
    "from sklearn.tree import DecisionTreeClassifier\n",
    "import matplotlib.pyplot as plt\n",
    "from sklearn.model_selection import cross_validate\n",
    "from sklearn.metrics import recall_score, accuracy_score,f1_score\n",
    "from sklearn.ensemble import RandomForestClassifier\n",
    "from sklearn.svm import SVC\n",
    "\n"
   ]
  },
  {
   "cell_type": "code",
   "execution_count": 357,
   "id": "b9be2ca0",
   "metadata": {},
   "outputs": [],
   "source": [
    "#train.to_csv('s3://germancreditcsr/datos/original/datos/train.csv', index=False)\n",
    "#train.to_csv('s3://germancreditcsr/datos/original/datos/test.csv', index=False)"
   ]
  },
  {
   "cell_type": "markdown",
   "id": "23590890",
   "metadata": {},
   "source": [
    "## Cargue de datos "
   ]
  },
  {
   "cell_type": "code",
   "execution_count": 358,
   "id": "9b03316b",
   "metadata": {},
   "outputs": [],
   "source": [
    "train = pd.read_csv('s3://germancreditcsr/datos/original/datos/train.csv')\n",
    "\n",
    "test = pd.read_csv('s3://germancreditcsr/datos/original/datos/test.csv')\n",
    "\n"
   ]
  },
  {
   "cell_type": "markdown",
   "id": "9eb2aebd",
   "metadata": {},
   "source": []
  },
  {
   "cell_type": "code",
   "execution_count": 359,
   "id": "834deeb1",
   "metadata": {},
   "outputs": [],
   "source": [
    "## creacion de Pipeline"
   ]
  },
  {
   "cell_type": "code",
   "execution_count": 360,
   "id": "ee742a26",
   "metadata": {},
   "outputs": [],
   "source": [
    "## creacion de pipeline numerico"
   ]
  },
  {
   "cell_type": "code",
   "execution_count": 361,
   "id": "870b2446",
   "metadata": {},
   "outputs": [],
   "source": [
    "numeric_pipeline = Pipeline(\n",
    "    [\n",
    "        ('Imputación con la media',   SimpleImputer(strategy='mean')),\n",
    "        ('Escalado minmax', MinMaxScaler())\n",
    "        \n",
    "    ]\n",
    ")"
   ]
  },
  {
   "cell_type": "code",
   "execution_count": 362,
   "id": "29cec14f",
   "metadata": {},
   "outputs": [],
   "source": [
    "## creacion de pipeline categorico "
   ]
  },
  {
   "cell_type": "code",
   "execution_count": 363,
   "id": "32a0a844",
   "metadata": {},
   "outputs": [],
   "source": [
    "\n",
    "categorical_pipeline = Pipeline(\n",
    "        [\n",
    "            ('imputación moda', SimpleImputer(strategy='most_frequent')),\n",
    "            ('onehot encoder', OneHotEncoder(sparse=False))\n",
    "        ]\n",
    "\n",
    ")"
   ]
  },
  {
   "cell_type": "code",
   "execution_count": 364,
   "id": "38f695c7",
   "metadata": {},
   "outputs": [],
   "source": [
    "## creacion de pipeline transformer"
   ]
  },
  {
   "cell_type": "code",
   "execution_count": 365,
   "id": "022bc15d",
   "metadata": {},
   "outputs": [],
   "source": [
    "\n",
    "column_transformer = ColumnTransformer(\n",
    "            [\n",
    "                ('numeric pipeline', numeric_pipeline, [0, 1, 2]),\n",
    "                ('categorical pipeline', categorical_pipeline, [3, 4, 5])\n",
    "            ]\n",
    ")\n",
    "## arreglo de tuplas de tres elementos , transformador , arreglo con los indices de las columnas "
   ]
  },
  {
   "cell_type": "code",
   "execution_count": 366,
   "id": "3e92cff1",
   "metadata": {},
   "outputs": [
    {
     "data": {
      "text/plain": [
       "Index(['Unnamed: 0', 'Age', 'Sex', 'Job', 'Housing', 'Saving accounts',\n",
       "       'Checking account', 'Credit amount', 'Duration', 'Purpose', 'Risk'],\n",
       "      dtype='object')"
      ]
     },
     "execution_count": 366,
     "metadata": {},
     "output_type": "execute_result"
    }
   ],
   "source": [
    "train.columns"
   ]
  },
  {
   "cell_type": "code",
   "execution_count": 367,
   "id": "26e8154e",
   "metadata": {},
   "outputs": [],
   "source": [
    "## Creacion de feautres para un futuro uso "
   ]
  },
  {
   "cell_type": "code",
   "execution_count": 368,
   "id": "8ecba526",
   "metadata": {},
   "outputs": [],
   "source": [
    "## Columnas (0,1,2,3,4,5) incluidas en el pipeline\n",
    "\n",
    "features=['Age','Credit amount','Duration','Sex','Purpose','Housing']"
   ]
  },
  {
   "cell_type": "code",
   "execution_count": 369,
   "id": "b62299d8",
   "metadata": {},
   "outputs": [],
   "source": [
    "## Seleccion de las caracteristicas"
   ]
  },
  {
   "cell_type": "code",
   "execution_count": 370,
   "id": "cd15440b",
   "metadata": {},
   "outputs": [],
   "source": [
    "train = train.dropna()"
   ]
  },
  {
   "cell_type": "code",
   "execution_count": 371,
   "id": "ceb95d03",
   "metadata": {},
   "outputs": [],
   "source": [
    "X_train = train.drop([\"Risk\",\"Unnamed: 0\"], axis=1)\n"
   ]
  },
  {
   "cell_type": "code",
   "execution_count": 372,
   "id": "d8a72c5f",
   "metadata": {},
   "outputs": [],
   "source": [
    "y_train = train['Risk']\n"
   ]
  },
  {
   "cell_type": "code",
   "execution_count": 373,
   "id": "0367c7d6",
   "metadata": {},
   "outputs": [],
   "source": [
    "y_train=(y_train=='good').astype(\"int\") ## conveierte en 0 y 1  , esta variable "
   ]
  },
  {
   "cell_type": "code",
   "execution_count": 374,
   "id": "866f20cb",
   "metadata": {},
   "outputs": [],
   "source": [
    "X_train=X_train.dropna()"
   ]
  },
  {
   "cell_type": "code",
   "execution_count": 375,
   "id": "bcdae84e",
   "metadata": {},
   "outputs": [
    {
     "name": "stdout",
     "output_type": "stream",
     "text": [
      "<class 'pandas.core.frame.DataFrame'>\n",
      "Int64Index: 361 entries, 0 to 699\n",
      "Data columns (total 9 columns):\n",
      " #   Column            Non-Null Count  Dtype \n",
      "---  ------            --------------  ----- \n",
      " 0   Age               361 non-null    int64 \n",
      " 1   Sex               361 non-null    object\n",
      " 2   Job               361 non-null    int64 \n",
      " 3   Housing           361 non-null    object\n",
      " 4   Saving accounts   361 non-null    object\n",
      " 5   Checking account  361 non-null    object\n",
      " 6   Credit amount     361 non-null    int64 \n",
      " 7   Duration          361 non-null    int64 \n",
      " 8   Purpose           361 non-null    object\n",
      "dtypes: int64(4), object(5)\n",
      "memory usage: 28.2+ KB\n"
     ]
    }
   ],
   "source": [
    "X_train.info()"
   ]
  },
  {
   "cell_type": "code",
   "execution_count": 376,
   "id": "57ce20e2",
   "metadata": {},
   "outputs": [],
   "source": [
    "X_train =  pd.get_dummies(X_train)"
   ]
  },
  {
   "cell_type": "code",
   "execution_count": 377,
   "id": "0e7e475a",
   "metadata": {},
   "outputs": [
    {
     "data": {
      "text/html": [
       "<div>\n",
       "<style scoped>\n",
       "    .dataframe tbody tr th:only-of-type {\n",
       "        vertical-align: middle;\n",
       "    }\n",
       "\n",
       "    .dataframe tbody tr th {\n",
       "        vertical-align: top;\n",
       "    }\n",
       "\n",
       "    .dataframe thead th {\n",
       "        text-align: right;\n",
       "    }\n",
       "</style>\n",
       "<table border=\"1\" class=\"dataframe\">\n",
       "  <thead>\n",
       "    <tr style=\"text-align: right;\">\n",
       "      <th></th>\n",
       "      <th>Age</th>\n",
       "      <th>Job</th>\n",
       "      <th>Credit amount</th>\n",
       "      <th>Duration</th>\n",
       "      <th>Sex_female</th>\n",
       "      <th>Sex_male</th>\n",
       "      <th>Housing_free</th>\n",
       "      <th>Housing_own</th>\n",
       "      <th>Housing_rent</th>\n",
       "      <th>Saving accounts_little</th>\n",
       "      <th>...</th>\n",
       "      <th>Checking account_moderate</th>\n",
       "      <th>Checking account_rich</th>\n",
       "      <th>Purpose_business</th>\n",
       "      <th>Purpose_car</th>\n",
       "      <th>Purpose_domestic appliances</th>\n",
       "      <th>Purpose_education</th>\n",
       "      <th>Purpose_furniture/equipment</th>\n",
       "      <th>Purpose_radio/TV</th>\n",
       "      <th>Purpose_repairs</th>\n",
       "      <th>Purpose_vacation/others</th>\n",
       "    </tr>\n",
       "  </thead>\n",
       "  <tbody>\n",
       "    <tr>\n",
       "      <th>0</th>\n",
       "      <td>31</td>\n",
       "      <td>2</td>\n",
       "      <td>4473</td>\n",
       "      <td>36</td>\n",
       "      <td>0</td>\n",
       "      <td>1</td>\n",
       "      <td>0</td>\n",
       "      <td>1</td>\n",
       "      <td>0</td>\n",
       "      <td>1</td>\n",
       "      <td>...</td>\n",
       "      <td>0</td>\n",
       "      <td>1</td>\n",
       "      <td>0</td>\n",
       "      <td>0</td>\n",
       "      <td>0</td>\n",
       "      <td>0</td>\n",
       "      <td>0</td>\n",
       "      <td>1</td>\n",
       "      <td>0</td>\n",
       "      <td>0</td>\n",
       "    </tr>\n",
       "    <tr>\n",
       "      <th>5</th>\n",
       "      <td>36</td>\n",
       "      <td>1</td>\n",
       "      <td>4241</td>\n",
       "      <td>24</td>\n",
       "      <td>0</td>\n",
       "      <td>1</td>\n",
       "      <td>0</td>\n",
       "      <td>1</td>\n",
       "      <td>0</td>\n",
       "      <td>1</td>\n",
       "      <td>...</td>\n",
       "      <td>1</td>\n",
       "      <td>0</td>\n",
       "      <td>1</td>\n",
       "      <td>0</td>\n",
       "      <td>0</td>\n",
       "      <td>0</td>\n",
       "      <td>0</td>\n",
       "      <td>0</td>\n",
       "      <td>0</td>\n",
       "      <td>0</td>\n",
       "    </tr>\n",
       "    <tr>\n",
       "      <th>6</th>\n",
       "      <td>35</td>\n",
       "      <td>3</td>\n",
       "      <td>6948</td>\n",
       "      <td>36</td>\n",
       "      <td>0</td>\n",
       "      <td>1</td>\n",
       "      <td>0</td>\n",
       "      <td>0</td>\n",
       "      <td>1</td>\n",
       "      <td>1</td>\n",
       "      <td>...</td>\n",
       "      <td>1</td>\n",
       "      <td>0</td>\n",
       "      <td>0</td>\n",
       "      <td>1</td>\n",
       "      <td>0</td>\n",
       "      <td>0</td>\n",
       "      <td>0</td>\n",
       "      <td>0</td>\n",
       "      <td>0</td>\n",
       "      <td>0</td>\n",
       "    </tr>\n",
       "    <tr>\n",
       "      <th>7</th>\n",
       "      <td>24</td>\n",
       "      <td>2</td>\n",
       "      <td>2145</td>\n",
       "      <td>36</td>\n",
       "      <td>0</td>\n",
       "      <td>1</td>\n",
       "      <td>0</td>\n",
       "      <td>1</td>\n",
       "      <td>0</td>\n",
       "      <td>1</td>\n",
       "      <td>...</td>\n",
       "      <td>0</td>\n",
       "      <td>0</td>\n",
       "      <td>1</td>\n",
       "      <td>0</td>\n",
       "      <td>0</td>\n",
       "      <td>0</td>\n",
       "      <td>0</td>\n",
       "      <td>0</td>\n",
       "      <td>0</td>\n",
       "      <td>0</td>\n",
       "    </tr>\n",
       "    <tr>\n",
       "      <th>10</th>\n",
       "      <td>30</td>\n",
       "      <td>2</td>\n",
       "      <td>639</td>\n",
       "      <td>12</td>\n",
       "      <td>0</td>\n",
       "      <td>1</td>\n",
       "      <td>0</td>\n",
       "      <td>1</td>\n",
       "      <td>0</td>\n",
       "      <td>1</td>\n",
       "      <td>...</td>\n",
       "      <td>1</td>\n",
       "      <td>0</td>\n",
       "      <td>0</td>\n",
       "      <td>0</td>\n",
       "      <td>0</td>\n",
       "      <td>0</td>\n",
       "      <td>0</td>\n",
       "      <td>0</td>\n",
       "      <td>1</td>\n",
       "      <td>0</td>\n",
       "    </tr>\n",
       "    <tr>\n",
       "      <th>...</th>\n",
       "      <td>...</td>\n",
       "      <td>...</td>\n",
       "      <td>...</td>\n",
       "      <td>...</td>\n",
       "      <td>...</td>\n",
       "      <td>...</td>\n",
       "      <td>...</td>\n",
       "      <td>...</td>\n",
       "      <td>...</td>\n",
       "      <td>...</td>\n",
       "      <td>...</td>\n",
       "      <td>...</td>\n",
       "      <td>...</td>\n",
       "      <td>...</td>\n",
       "      <td>...</td>\n",
       "      <td>...</td>\n",
       "      <td>...</td>\n",
       "      <td>...</td>\n",
       "      <td>...</td>\n",
       "      <td>...</td>\n",
       "      <td>...</td>\n",
       "    </tr>\n",
       "    <tr>\n",
       "      <th>692</th>\n",
       "      <td>26</td>\n",
       "      <td>2</td>\n",
       "      <td>4788</td>\n",
       "      <td>48</td>\n",
       "      <td>0</td>\n",
       "      <td>1</td>\n",
       "      <td>0</td>\n",
       "      <td>1</td>\n",
       "      <td>0</td>\n",
       "      <td>1</td>\n",
       "      <td>...</td>\n",
       "      <td>0</td>\n",
       "      <td>0</td>\n",
       "      <td>0</td>\n",
       "      <td>1</td>\n",
       "      <td>0</td>\n",
       "      <td>0</td>\n",
       "      <td>0</td>\n",
       "      <td>0</td>\n",
       "      <td>0</td>\n",
       "      <td>0</td>\n",
       "    </tr>\n",
       "    <tr>\n",
       "      <th>693</th>\n",
       "      <td>36</td>\n",
       "      <td>2</td>\n",
       "      <td>1275</td>\n",
       "      <td>24</td>\n",
       "      <td>0</td>\n",
       "      <td>1</td>\n",
       "      <td>0</td>\n",
       "      <td>1</td>\n",
       "      <td>0</td>\n",
       "      <td>0</td>\n",
       "      <td>...</td>\n",
       "      <td>0</td>\n",
       "      <td>1</td>\n",
       "      <td>1</td>\n",
       "      <td>0</td>\n",
       "      <td>0</td>\n",
       "      <td>0</td>\n",
       "      <td>0</td>\n",
       "      <td>0</td>\n",
       "      <td>0</td>\n",
       "      <td>0</td>\n",
       "    </tr>\n",
       "    <tr>\n",
       "      <th>694</th>\n",
       "      <td>37</td>\n",
       "      <td>1</td>\n",
       "      <td>1274</td>\n",
       "      <td>12</td>\n",
       "      <td>1</td>\n",
       "      <td>0</td>\n",
       "      <td>0</td>\n",
       "      <td>1</td>\n",
       "      <td>0</td>\n",
       "      <td>1</td>\n",
       "      <td>...</td>\n",
       "      <td>0</td>\n",
       "      <td>0</td>\n",
       "      <td>0</td>\n",
       "      <td>1</td>\n",
       "      <td>0</td>\n",
       "      <td>0</td>\n",
       "      <td>0</td>\n",
       "      <td>0</td>\n",
       "      <td>0</td>\n",
       "      <td>0</td>\n",
       "    </tr>\n",
       "    <tr>\n",
       "      <th>695</th>\n",
       "      <td>41</td>\n",
       "      <td>1</td>\n",
       "      <td>5954</td>\n",
       "      <td>42</td>\n",
       "      <td>1</td>\n",
       "      <td>0</td>\n",
       "      <td>0</td>\n",
       "      <td>1</td>\n",
       "      <td>0</td>\n",
       "      <td>1</td>\n",
       "      <td>...</td>\n",
       "      <td>1</td>\n",
       "      <td>0</td>\n",
       "      <td>1</td>\n",
       "      <td>0</td>\n",
       "      <td>0</td>\n",
       "      <td>0</td>\n",
       "      <td>0</td>\n",
       "      <td>0</td>\n",
       "      <td>0</td>\n",
       "      <td>0</td>\n",
       "    </tr>\n",
       "    <tr>\n",
       "      <th>699</th>\n",
       "      <td>37</td>\n",
       "      <td>2</td>\n",
       "      <td>3676</td>\n",
       "      <td>6</td>\n",
       "      <td>0</td>\n",
       "      <td>1</td>\n",
       "      <td>0</td>\n",
       "      <td>0</td>\n",
       "      <td>1</td>\n",
       "      <td>1</td>\n",
       "      <td>...</td>\n",
       "      <td>0</td>\n",
       "      <td>0</td>\n",
       "      <td>0</td>\n",
       "      <td>1</td>\n",
       "      <td>0</td>\n",
       "      <td>0</td>\n",
       "      <td>0</td>\n",
       "      <td>0</td>\n",
       "      <td>0</td>\n",
       "      <td>0</td>\n",
       "    </tr>\n",
       "  </tbody>\n",
       "</table>\n",
       "<p>361 rows × 24 columns</p>\n",
       "</div>"
      ],
      "text/plain": [
       "     Age  Job  Credit amount  Duration  Sex_female  Sex_male  Housing_free  \\\n",
       "0     31    2           4473        36           0         1             0   \n",
       "5     36    1           4241        24           0         1             0   \n",
       "6     35    3           6948        36           0         1             0   \n",
       "7     24    2           2145        36           0         1             0   \n",
       "10    30    2            639        12           0         1             0   \n",
       "..   ...  ...            ...       ...         ...       ...           ...   \n",
       "692   26    2           4788        48           0         1             0   \n",
       "693   36    2           1275        24           0         1             0   \n",
       "694   37    1           1274        12           1         0             0   \n",
       "695   41    1           5954        42           1         0             0   \n",
       "699   37    2           3676         6           0         1             0   \n",
       "\n",
       "     Housing_own  Housing_rent  Saving accounts_little  ...  \\\n",
       "0              1             0                       1  ...   \n",
       "5              1             0                       1  ...   \n",
       "6              0             1                       1  ...   \n",
       "7              1             0                       1  ...   \n",
       "10             1             0                       1  ...   \n",
       "..           ...           ...                     ...  ...   \n",
       "692            1             0                       1  ...   \n",
       "693            1             0                       0  ...   \n",
       "694            1             0                       1  ...   \n",
       "695            1             0                       1  ...   \n",
       "699            0             1                       1  ...   \n",
       "\n",
       "     Checking account_moderate  Checking account_rich  Purpose_business  \\\n",
       "0                            0                      1                 0   \n",
       "5                            1                      0                 1   \n",
       "6                            1                      0                 0   \n",
       "7                            0                      0                 1   \n",
       "10                           1                      0                 0   \n",
       "..                         ...                    ...               ...   \n",
       "692                          0                      0                 0   \n",
       "693                          0                      1                 1   \n",
       "694                          0                      0                 0   \n",
       "695                          1                      0                 1   \n",
       "699                          0                      0                 0   \n",
       "\n",
       "     Purpose_car  Purpose_domestic appliances  Purpose_education  \\\n",
       "0              0                            0                  0   \n",
       "5              0                            0                  0   \n",
       "6              1                            0                  0   \n",
       "7              0                            0                  0   \n",
       "10             0                            0                  0   \n",
       "..           ...                          ...                ...   \n",
       "692            1                            0                  0   \n",
       "693            0                            0                  0   \n",
       "694            1                            0                  0   \n",
       "695            0                            0                  0   \n",
       "699            1                            0                  0   \n",
       "\n",
       "     Purpose_furniture/equipment  Purpose_radio/TV  Purpose_repairs  \\\n",
       "0                              0                 1                0   \n",
       "5                              0                 0                0   \n",
       "6                              0                 0                0   \n",
       "7                              0                 0                0   \n",
       "10                             0                 0                1   \n",
       "..                           ...               ...              ...   \n",
       "692                            0                 0                0   \n",
       "693                            0                 0                0   \n",
       "694                            0                 0                0   \n",
       "695                            0                 0                0   \n",
       "699                            0                 0                0   \n",
       "\n",
       "     Purpose_vacation/others  \n",
       "0                          0  \n",
       "5                          0  \n",
       "6                          0  \n",
       "7                          0  \n",
       "10                         0  \n",
       "..                       ...  \n",
       "692                        0  \n",
       "693                        0  \n",
       "694                        0  \n",
       "695                        0  \n",
       "699                        0  \n",
       "\n",
       "[361 rows x 24 columns]"
      ]
     },
     "execution_count": 377,
     "metadata": {},
     "output_type": "execute_result"
    }
   ],
   "source": [
    "X_train"
   ]
  },
  {
   "cell_type": "code",
   "execution_count": 378,
   "id": "e1a47e85",
   "metadata": {},
   "outputs": [],
   "source": [
    "model = DecisionTreeClassifier()"
   ]
  },
  {
   "cell_type": "code",
   "execution_count": 379,
   "id": "6188ed5e",
   "metadata": {},
   "outputs": [
    {
     "data": {
      "text/plain": [
       "DecisionTreeClassifier()"
      ]
     },
     "execution_count": 379,
     "metadata": {},
     "output_type": "execute_result"
    }
   ],
   "source": [
    "model.fit(X_train, y_train)"
   ]
  },
  {
   "cell_type": "code",
   "execution_count": 380,
   "id": "ed6a99e7",
   "metadata": {},
   "outputs": [
    {
     "data": {
      "text/plain": [
       "array([0.11075694, 0.04626751, 0.36611335, 0.19983966, 0.0238333 ,\n",
       "       0.01025807, 0.01870899, 0.        , 0.02397041, 0.0037466 ,\n",
       "       0.02598186, 0.02426178, 0.01925574, 0.01943031, 0.01030315,\n",
       "       0.0074932 , 0.0056199 , 0.04693469, 0.        , 0.00760165,\n",
       "       0.00956721, 0.01177909, 0.00827658, 0.        ])"
      ]
     },
     "execution_count": 380,
     "metadata": {},
     "output_type": "execute_result"
    }
   ],
   "source": [
    "model.feature_importances_"
   ]
  },
  {
   "cell_type": "code",
   "execution_count": 381,
   "id": "9ee30f40",
   "metadata": {},
   "outputs": [
    {
     "data": {
      "text/plain": [
       "Index(['Age', 'Job', 'Credit amount', 'Duration', 'Sex_female', 'Sex_male',\n",
       "       'Housing_free', 'Housing_own', 'Housing_rent', 'Saving accounts_little',\n",
       "       'Saving accounts_moderate', 'Saving accounts_quite rich',\n",
       "       'Saving accounts_rich', 'Checking account_little',\n",
       "       'Checking account_moderate', 'Checking account_rich',\n",
       "       'Purpose_business', 'Purpose_car', 'Purpose_domestic appliances',\n",
       "       'Purpose_education', 'Purpose_furniture/equipment', 'Purpose_radio/TV',\n",
       "       'Purpose_repairs', 'Purpose_vacation/others'],\n",
       "      dtype='object')"
      ]
     },
     "execution_count": 381,
     "metadata": {},
     "output_type": "execute_result"
    }
   ],
   "source": [
    "X_train.columns"
   ]
  },
  {
   "cell_type": "code",
   "execution_count": 382,
   "id": "d6877472",
   "metadata": {},
   "outputs": [
    {
     "data": {
      "image/png": "[encoded data removed]",
      "text/plain": [
       "<Figure size 432x288 with 1 Axes>"
      ]
     },
     "metadata": {
      "needs_background": "light"
     },
     "output_type": "display_data"
    }
   ],
   "source": [
    "plt.bar(x=X_train.columns, height= model.feature_importances_)\n",
    "plt.xticks(rotation=90)\n",
    "plt.show()"
   ]
  },
  {
   "cell_type": "code",
   "execution_count": 383,
   "id": "305f09e1",
   "metadata": {},
   "outputs": [
    {
     "data": {
      "text/plain": [
       "array([ 2,  3,  0, 17,  1, 10, 11,  8,  4, 13, 12,  6, 21, 14,  5, 20, 22,\n",
       "       19, 15, 16,  9,  7, 18, 23])"
      ]
     },
     "execution_count": 383,
     "metadata": {},
     "output_type": "execute_result"
    }
   ],
   "source": [
    "np.argsort(model.feature_importances_)[::-1]\n",
    "\n"
   ]
  },
  {
   "cell_type": "code",
   "execution_count": null,
   "id": "ee3ca37e",
   "metadata": {},
   "outputs": [],
   "source": []
  },
  {
   "cell_type": "code",
   "execution_count": 384,
   "id": "96699a23",
   "metadata": {},
   "outputs": [
    {
     "data": {
      "image/png": "[encoded data removed]",
      "text/plain": [
       "<Figure size 432x288 with 1 Axes>"
      ]
     },
     "metadata": {
      "needs_background": "light"
     },
     "output_type": "display_data"
    }
   ],
   "source": [
    "plt.bar(np.argsort(model.feature_importances_)[::-1], height= model.feature_importances_)\n",
    "plt.xticks(rotation=90)\n",
    "plt.show()"
   ]
  },
  {
   "cell_type": "code",
   "execution_count": 385,
   "id": "8939f2de",
   "metadata": {},
   "outputs": [],
   "source": [
    "### REGRESION LOGISTICA"
   ]
  },
  {
   "cell_type": "code",
   "execution_count": 386,
   "id": "f1c2537f",
   "metadata": {},
   "outputs": [],
   "source": [
    "from sklearn.linear_model import LogisticRegression\n",
    "from sklearn.preprocessing import MinMaxScaler\n"
   ]
  },
  {
   "cell_type": "code",
   "execution_count": 387,
   "id": "baa7b764",
   "metadata": {},
   "outputs": [],
   "source": [
    "X_train_scaled = MinMaxScaler().fit_transform(X_train)"
   ]
  },
  {
   "cell_type": "code",
   "execution_count": 388,
   "id": "7f609865",
   "metadata": {},
   "outputs": [],
   "source": [
    "model = LogisticRegression()"
   ]
  },
  {
   "cell_type": "code",
   "execution_count": 389,
   "id": "85add76f",
   "metadata": {},
   "outputs": [
    {
     "data": {
      "text/plain": [
       "LogisticRegression()"
      ]
     },
     "execution_count": 389,
     "metadata": {},
     "output_type": "execute_result"
    }
   ],
   "source": [
    "model.fit(X_train_scaled,y_train)"
   ]
  },
  {
   "cell_type": "code",
   "execution_count": null,
   "id": "e761a727",
   "metadata": {},
   "outputs": [],
   "source": []
  },
  {
   "cell_type": "code",
   "execution_count": 390,
   "id": "9988fb20",
   "metadata": {},
   "outputs": [
    {
     "data": {
      "text/plain": [
       "array([[ 0.47424606,  0.46040332, -0.92624159, -2.03116232, -0.19687034,\n",
       "         0.19696162,  0.06881668,  0.14613817, -0.21486357, -0.46689979,\n",
       "        -0.41031105,  0.29891103,  0.57839108, -0.38283643, -0.16388134,\n",
       "         0.54680905,  0.28173634,  0.11494351, -0.14531633, -0.93147024,\n",
       "         0.17853055,  0.27162217,  0.07962265,  0.15042262]])"
      ]
     },
     "execution_count": 390,
     "metadata": {},
     "output_type": "execute_result"
    }
   ],
   "source": [
    "model.coef_"
   ]
  },
  {
   "cell_type": "code",
   "execution_count": 391,
   "id": "a9c1cab0",
   "metadata": {},
   "outputs": [
    {
     "data": {
      "image/png": "[encoded data removed]",
      "text/plain": [
       "<Figure size 432x288 with 1 Axes>"
      ]
     },
     "metadata": {
      "needs_background": "light"
     },
     "output_type": "display_data"
    }
   ],
   "source": [
    "plt.bar(x=X_train.columns, height= model.coef_[0])\n",
    "plt.xticks(rotation=90)\n",
    "plt.show()"
   ]
  },
  {
   "cell_type": "code",
   "execution_count": 392,
   "id": "54ad6ddb",
   "metadata": {},
   "outputs": [],
   "source": [
    "\n",
    "## EVALUACION DEL MODELOS\n"
   ]
  },
  {
   "cell_type": "code",
   "execution_count": 393,
   "id": "3738c835",
   "metadata": {},
   "outputs": [],
   "source": [
    "train = pd.read_csv('s3://germancreditcsr/datos/original/datos/train.csv')\n",
    "\n",
    "test = pd.read_csv('s3://germancreditcsr/datos/original/datos/test.csv')\n",
    "\n",
    "\n"
   ]
  },
  {
   "cell_type": "code",
   "execution_count": 394,
   "id": "7b81e0ca",
   "metadata": {},
   "outputs": [
    {
     "name": "stdout",
     "output_type": "stream",
     "text": [
      "<class 'pandas.core.frame.DataFrame'>\n",
      "RangeIndex: 700 entries, 0 to 699\n",
      "Data columns (total 11 columns):\n",
      " #   Column            Non-Null Count  Dtype \n",
      "---  ------            --------------  ----- \n",
      " 0   Unnamed: 0        700 non-null    int64 \n",
      " 1   Age               700 non-null    int64 \n",
      " 2   Sex               700 non-null    object\n",
      " 3   Job               700 non-null    int64 \n",
      " 4   Housing           700 non-null    object\n",
      " 5   Saving accounts   575 non-null    object\n",
      " 6   Checking account  426 non-null    object\n",
      " 7   Credit amount     700 non-null    int64 \n",
      " 8   Duration          700 non-null    int64 \n",
      " 9   Purpose           700 non-null    object\n",
      " 10  Risk              700 non-null    object\n",
      "dtypes: int64(5), object(6)\n",
      "memory usage: 60.3+ KB\n"
     ]
    }
   ],
   "source": [
    "train.info()"
   ]
  },
  {
   "cell_type": "code",
   "execution_count": 395,
   "id": "f0ce9b8e",
   "metadata": {},
   "outputs": [],
   "source": [
    "X_train = train.drop([\"Risk\" , \"Unnamed: 0\"], axis=1)\n",
    "\n",
    "y_train = train['Risk']\n",
    "y_train = (y_train =='good').astype(\"int\")"
   ]
  },
  {
   "cell_type": "code",
   "execution_count": 396,
   "id": "d335f379",
   "metadata": {},
   "outputs": [],
   "source": [
    "final_pipeline = Pipeline(\n",
    "[(\"preprocesamiento\",column_transformer),\n",
    "('modelo', DecisionTreeClassifier())\n",
    "]\n",
    ")"
   ]
  },
  {
   "cell_type": "code",
   "execution_count": 397,
   "id": "b5e17b45",
   "metadata": {},
   "outputs": [
    {
     "data": {
      "text/plain": [
       "['Age', 'Credit amount', 'Duration', 'Sex', 'Purpose', 'Housing']"
      ]
     },
     "execution_count": 397,
     "metadata": {},
     "output_type": "execute_result"
    }
   ],
   "source": [
    "features"
   ]
  },
  {
   "cell_type": "code",
   "execution_count": 398,
   "id": "9d83f60f",
   "metadata": {},
   "outputs": [],
   "source": [
    "X_train= train[features]"
   ]
  },
  {
   "cell_type": "code",
   "execution_count": 399,
   "id": "7d0cf6e4",
   "metadata": {},
   "outputs": [],
   "source": [
    "results = cross_validate(final_pipeline, X_train, y_train, cv=10, return_train_score=True, scoring=['accuracy','f1'])"
   ]
  },
  {
   "cell_type": "code",
   "execution_count": null,
   "id": "1c1ce66b",
   "metadata": {},
   "outputs": [],
   "source": []
  },
  {
   "cell_type": "code",
   "execution_count": 400,
   "id": "e1bde2bf",
   "metadata": {},
   "outputs": [
    {
     "name": "stdout",
     "output_type": "stream",
     "text": [
      "train: 1.0 +- 0.0\n",
      "val: 0.6228571428571428 +- 0.05965889433663171\n"
     ]
    }
   ],
   "source": [
    "print('train:', results['train_accuracy'].mean(), '+-', results['train_accuracy'].std())\n",
    "print('val:', results['test_accuracy'].mean(), '+-', results['test_accuracy'].std())\n"
   ]
  },
  {
   "cell_type": "code",
   "execution_count": 401,
   "id": "3312ae9c",
   "metadata": {},
   "outputs": [],
   "source": [
    "## Regresion Logistica"
   ]
  },
  {
   "cell_type": "code",
   "execution_count": 402,
   "id": "d9dd1671",
   "metadata": {},
   "outputs": [],
   "source": [
    "final_pipeline = Pipeline(\n",
    "[(\"preprocesamiento\",column_transformer),\n",
    "('modelo', LogisticRegression())\n",
    "]\n",
    ")"
   ]
  },
  {
   "cell_type": "code",
   "execution_count": 403,
   "id": "22cca687",
   "metadata": {},
   "outputs": [],
   "source": [
    "X_train= train[features]"
   ]
  },
  {
   "cell_type": "code",
   "execution_count": 404,
   "id": "0b855a4f",
   "metadata": {},
   "outputs": [],
   "source": [
    "results = cross_validate(final_pipeline, X_train, y_train, cv=10, return_train_score=True, scoring=['accuracy','f1'])"
   ]
  },
  {
   "cell_type": "code",
   "execution_count": 405,
   "id": "2f4232c1",
   "metadata": {},
   "outputs": [
    {
     "name": "stdout",
     "output_type": "stream",
     "text": [
      "train: 0.7233333333333334 +- 0.00355286179136497\n",
      "val: 0.7185714285714286 +- 0.026380264732313422\n"
     ]
    }
   ],
   "source": [
    "print('train:', results['train_accuracy'].mean(), '+-', results['train_accuracy'].std())\n",
    "print('val:', results['test_accuracy'].mean(), '+-', results['test_accuracy'].std())\n"
   ]
  },
  {
   "cell_type": "code",
   "execution_count": 406,
   "id": "7481de14",
   "metadata": {},
   "outputs": [],
   "source": [
    "## ramdon Forest"
   ]
  },
  {
   "cell_type": "code",
   "execution_count": 407,
   "id": "356aaf5d",
   "metadata": {},
   "outputs": [],
   "source": [
    "final_pipeline = Pipeline(\n",
    "[(\"preprocesamiento\",column_transformer),\n",
    "('modelo', RandomForestClassifier())\n",
    "]\n",
    ")"
   ]
  },
  {
   "cell_type": "code",
   "execution_count": 408,
   "id": "78c378f1",
   "metadata": {},
   "outputs": [],
   "source": [
    "X_train= train[features]"
   ]
  },
  {
   "cell_type": "code",
   "execution_count": 409,
   "id": "c2292873",
   "metadata": {},
   "outputs": [],
   "source": [
    "results = cross_validate(final_pipeline, X_train, y_train, cv=10, return_train_score=True, scoring=['accuracy','f1'])"
   ]
  },
  {
   "cell_type": "code",
   "execution_count": 410,
   "id": "6e1a80bf",
   "metadata": {},
   "outputs": [
    {
     "name": "stdout",
     "output_type": "stream",
     "text": [
      "train: 1.0 +- 0.0\n",
      "val: 0.6885714285714286 +- 0.05883217223421143\n"
     ]
    }
   ],
   "source": [
    "print('train:', results['train_accuracy'].mean(), '+-', results['train_accuracy'].std())\n",
    "print('val:', results['test_accuracy'].mean(), '+-', results['test_accuracy'].std())\n"
   ]
  },
  {
   "cell_type": "code",
   "execution_count": 411,
   "id": "a1af96e2",
   "metadata": {},
   "outputs": [],
   "source": [
    "## SUPER VECTOR MACHINE"
   ]
  },
  {
   "cell_type": "code",
   "execution_count": 412,
   "id": "829919c7",
   "metadata": {},
   "outputs": [],
   "source": [
    "final_pipeline = Pipeline(\n",
    "[(\"preprocesamiento\",column_transformer),\n",
    "('modelo', SVC())\n",
    "]\n",
    ")\n",
    "\n"
   ]
  },
  {
   "cell_type": "code",
   "execution_count": 413,
   "id": "2a03c051",
   "metadata": {},
   "outputs": [],
   "source": [
    "X_train= train[features]"
   ]
  },
  {
   "cell_type": "code",
   "execution_count": 414,
   "id": "b36f587e",
   "metadata": {},
   "outputs": [],
   "source": [
    "results = cross_validate(final_pipeline, X_train, y_train, cv=10, return_train_score=True, scoring=['accuracy','f1'])"
   ]
  },
  {
   "cell_type": "code",
   "execution_count": 415,
   "id": "98658cde",
   "metadata": {},
   "outputs": [
    {
     "name": "stdout",
     "output_type": "stream",
     "text": [
      "train: 0.7284126984126985 +- 0.004679175546978951\n",
      "val: 0.7085714285714285 +- 0.011428571428571436\n"
     ]
    }
   ],
   "source": [
    "print('train:', results['train_accuracy'].mean(), '+-', results['train_accuracy'].std())\n",
    "print('val:', results['test_accuracy'].mean(), '+-', results['test_accuracy'].std())\n"
   ]
  },
  {
   "cell_type": "code",
   "execution_count": 416,
   "id": "00714d84",
   "metadata": {},
   "outputs": [],
   "source": [
    "### AJUSTE HIPERPARAMETROS RANDOM FOREST"
   ]
  },
  {
   "cell_type": "code",
   "execution_count": 417,
   "id": "aa2efc0c",
   "metadata": {},
   "outputs": [],
   "source": [
    "# Probar, 50 arboles, 100 arbles, 200 arboles, alturas : 2, 3, 5,10"
   ]
  },
  {
   "cell_type": "code",
   "execution_count": 418,
   "id": "5f13934d",
   "metadata": {},
   "outputs": [],
   "source": [
    "from sklearn.model_selection import GridSearchCV"
   ]
  },
  {
   "cell_type": "code",
   "execution_count": 419,
   "id": "07181df7",
   "metadata": {},
   "outputs": [],
   "source": [
    "grid = {'n_estimators': [50,100,200],'max_depth': [2,3,5, 10]}"
   ]
  },
  {
   "cell_type": "code",
   "execution_count": 426,
   "id": "9854fbea",
   "metadata": {},
   "outputs": [],
   "source": [
    "X_transformed = column_transformer.fit_transform(X_train)"
   ]
  },
  {
   "cell_type": "code",
   "execution_count": 427,
   "id": "d7d36268",
   "metadata": {},
   "outputs": [],
   "source": [
    "grid_search =GridSearchCV(\n",
    "RandomForestClassifier(),\n",
    "param_grid=grid, \n",
    "cv=10,\n",
    "scoring='accuracy')"
   ]
  },
  {
   "cell_type": "code",
   "execution_count": 431,
   "id": "0ba14762",
   "metadata": {},
   "outputs": [
    {
     "data": {
      "text/plain": [
       "GridSearchCV(cv=10, estimator=RandomForestClassifier(),\n",
       "             param_grid={'max_depth': [2, 3, 5, 10],\n",
       "                         'n_estimators': [50, 100, 200]},\n",
       "             scoring='accuracy')"
      ]
     },
     "execution_count": 431,
     "metadata": {},
     "output_type": "execute_result"
    }
   ],
   "source": [
    "grid_search.fit(X_transformed, y_train)"
   ]
  },
  {
   "cell_type": "code",
   "execution_count": 432,
   "id": "eb051f35",
   "metadata": {},
   "outputs": [
    {
     "data": {
      "text/plain": [
       "0.7142857142857144"
      ]
     },
     "execution_count": 432,
     "metadata": {},
     "output_type": "execute_result"
    }
   ],
   "source": [
    "grid_search.best_score_"
   ]
  },
  {
   "cell_type": "code",
   "execution_count": 433,
   "id": "cec92690",
   "metadata": {},
   "outputs": [
    {
     "data": {
      "text/plain": [
       "{'max_depth': 3, 'n_estimators': 200}"
      ]
     },
     "execution_count": 433,
     "metadata": {},
     "output_type": "execute_result"
    }
   ],
   "source": [
    "grid_search.best_params_"
   ]
  },
  {
   "cell_type": "code",
   "execution_count": 434,
   "id": "01c99f6c",
   "metadata": {},
   "outputs": [
    {
     "data": {
      "text/plain": [
       "{'mean_fit_time': array([0.05401332, 0.10944154, 0.21221642, 0.05582435, 0.11193416,\n",
       "        0.22020862, 0.06016817, 0.11678061, 0.23317122, 0.06787436,\n",
       "        0.13937881, 0.26299791]),\n",
       " 'std_fit_time': array([0.00072978, 0.0045139 , 0.00206822, 0.0007853 , 0.00482087,\n",
       "        0.00329702, 0.0039769 , 0.00191682, 0.00726304, 0.0029387 ,\n",
       "        0.00775043, 0.00348673]),\n",
       " 'mean_score_time': array([0.00419815, 0.00767839, 0.01458168, 0.00426974, 0.00785017,\n",
       "        0.01477752, 0.00465903, 0.00783327, 0.01510794, 0.00463073,\n",
       "        0.00881588, 0.0160615 ]),\n",
       " 'std_score_time': array([4.18291179e-05, 8.39187508e-05, 1.25143185e-04, 1.00078748e-04,\n",
       "        4.24014677e-04, 3.49545644e-04, 9.05881425e-04, 4.39912257e-05,\n",
       "        4.78955262e-04, 8.49159860e-05, 7.11577313e-04, 2.09122229e-04]),\n",
       " 'param_max_depth': masked_array(data=[2, 2, 2, 3, 3, 3, 5, 5, 5, 10, 10, 10],\n",
       "              mask=[False, False, False, False, False, False, False, False,\n",
       "                    False, False, False, False],\n",
       "        fill_value='?',\n",
       "             dtype=object),\n",
       " 'param_n_estimators': masked_array(data=[50, 100, 200, 50, 100, 200, 50, 100, 200, 50, 100, 200],\n",
       "              mask=[False, False, False, False, False, False, False, False,\n",
       "                    False, False, False, False],\n",
       "        fill_value='?',\n",
       "             dtype=object),\n",
       " 'params': [{'max_depth': 2, 'n_estimators': 50},\n",
       "  {'max_depth': 2, 'n_estimators': 100},\n",
       "  {'max_depth': 2, 'n_estimators': 200},\n",
       "  {'max_depth': 3, 'n_estimators': 50},\n",
       "  {'max_depth': 3, 'n_estimators': 100},\n",
       "  {'max_depth': 3, 'n_estimators': 200},\n",
       "  {'max_depth': 5, 'n_estimators': 50},\n",
       "  {'max_depth': 5, 'n_estimators': 100},\n",
       "  {'max_depth': 5, 'n_estimators': 200},\n",
       "  {'max_depth': 10, 'n_estimators': 50},\n",
       "  {'max_depth': 10, 'n_estimators': 100},\n",
       "  {'max_depth': 10, 'n_estimators': 200}],\n",
       " 'split0_test_score': array([0.7       , 0.7       , 0.71428571, 0.71428571, 0.71428571,\n",
       "        0.74285714, 0.72857143, 0.7       , 0.71428571, 0.68571429,\n",
       "        0.71428571, 0.68571429]),\n",
       " 'split1_test_score': array([0.7       , 0.7       , 0.7       , 0.74285714, 0.72857143,\n",
       "        0.72857143, 0.72857143, 0.74285714, 0.74285714, 0.77142857,\n",
       "        0.78571429, 0.78571429]),\n",
       " 'split2_test_score': array([0.7       , 0.7       , 0.7       , 0.7       , 0.71428571,\n",
       "        0.71428571, 0.67142857, 0.71428571, 0.7       , 0.62857143,\n",
       "        0.64285714, 0.65714286]),\n",
       " 'split3_test_score': array([0.71428571, 0.7       , 0.7       , 0.71428571, 0.71428571,\n",
       "        0.71428571, 0.71428571, 0.7       , 0.7       , 0.62857143,\n",
       "        0.71428571, 0.68571429]),\n",
       " 'split4_test_score': array([0.7       , 0.7       , 0.7       , 0.7       , 0.7       ,\n",
       "        0.68571429, 0.71428571, 0.71428571, 0.71428571, 0.74285714,\n",
       "        0.71428571, 0.7       ]),\n",
       " 'split5_test_score': array([0.7       , 0.7       , 0.7       , 0.67142857, 0.7       ,\n",
       "        0.68571429, 0.65714286, 0.65714286, 0.68571429, 0.64285714,\n",
       "        0.65714286, 0.65714286]),\n",
       " 'split6_test_score': array([0.72857143, 0.7       , 0.7       , 0.71428571, 0.71428571,\n",
       "        0.71428571, 0.75714286, 0.72857143, 0.72857143, 0.72857143,\n",
       "        0.68571429, 0.71428571]),\n",
       " 'split7_test_score': array([0.7       , 0.7       , 0.7       , 0.71428571, 0.71428571,\n",
       "        0.74285714, 0.68571429, 0.7       , 0.71428571, 0.68571429,\n",
       "        0.72857143, 0.68571429]),\n",
       " 'split8_test_score': array([0.65714286, 0.67142857, 0.7       , 0.68571429, 0.68571429,\n",
       "        0.68571429, 0.68571429, 0.68571429, 0.68571429, 0.68571429,\n",
       "        0.68571429, 0.7       ]),\n",
       " 'split9_test_score': array([0.7       , 0.7       , 0.7       , 0.71428571, 0.71428571,\n",
       "        0.72857143, 0.72857143, 0.72857143, 0.74285714, 0.78571429,\n",
       "        0.77142857, 0.77142857]),\n",
       " 'mean_test_score': array([0.7       , 0.69714286, 0.70142857, 0.70714286, 0.71      ,\n",
       "        0.71428571, 0.70714286, 0.70714286, 0.71285714, 0.69857143,\n",
       "        0.71      , 0.70428571]),\n",
       " 'std_test_score': array([0.01690309, 0.00857143, 0.00428571, 0.01835033, 0.0111575 ,\n",
       "        0.02118914, 0.02945075, 0.02325546, 0.01963961, 0.05400302,\n",
       "        0.04288095, 0.040933  ]),\n",
       " 'rank_test_score': array([10, 12,  9,  5,  3,  1,  5,  5,  2, 11,  3,  8], dtype=int32)}"
      ]
     },
     "execution_count": 434,
     "metadata": {},
     "output_type": "execute_result"
    }
   ],
   "source": [
    "grid_search.cv_results_"
   ]
  },
  {
   "cell_type": "code",
   "execution_count": null,
   "id": "82f6bf8e",
   "metadata": {},
   "outputs": [],
   "source": []
  },
  {
   "cell_type": "code",
   "execution_count": null,
   "id": "454df02b",
   "metadata": {},
   "outputs": [],
   "source": [
    "### Entreamiento final"
   ]
  },
  {
   "cell_type": "code",
   "execution_count": 440,
   "id": "7714b3e6",
   "metadata": {},
   "outputs": [],
   "source": [
    "\n",
    "\n",
    "final_pipeline = Pipeline(\n",
    "            [\n",
    "                (\"preprocesamiento\", column_transformer),\n",
    "                (\"modelo\", RandomForestClassifier(max_depth=5, \n",
    "                                                  n_estimators=100))\n",
    "            ]\n",
    ")\n",
    "\n"
   ]
  },
  {
   "cell_type": "code",
   "execution_count": 441,
   "id": "26e6867b",
   "metadata": {},
   "outputs": [
    {
     "data": {
      "text/plain": [
       "['model.joblib']"
      ]
     },
     "execution_count": 441,
     "metadata": {},
     "output_type": "execute_result"
    }
   ],
   "source": [
    "joblib.dump(final_pipeline, \"model.joblib\")\n"
   ]
  }
 ],
 "metadata": {
  "kernelspec": {
   "display_name": "conda_python3",
   "language": "python",
   "name": "conda_python3"
  },
  "language_info": {
   "codemirror_mode": {
    "name": "ipython",
    "version": 3
   },
   "file_extension": ".py",
   "mimetype": "text/x-python",
   "name": "python",
   "nbconvert_exporter": "python",
   "pygments_lexer": "ipython3",
   "version": "3.8.12"
  }
 },
 "nbformat": 4,
 "nbformat_minor": 5
}
